{
 "cells": [
  {
   "cell_type": "markdown",
   "metadata": {},
   "source": [
    "# Background\n",
    "\n",
    "The owner of a company would like to be able to predict whether employees will stay with the company or leave. \n",
    "\n",
    "## Data Description\n",
    "\n",
    "The data contains information about various characteristics of employees. Please note that the dataset has been updated to account for repetitions, which is needed for Goodness of Fit Assessment. See below for the description of these characteristics. "
   ]
  },
  {
   "attachments": {},
   "cell_type": "markdown",
   "metadata": {},
   "source": [
    "1. **Age_Group**: 1-9 (1 corresponds to teen, 2 corresponds to twenties, etc.) \n",
    "2. **Gender**: 1 if male, 0 if female \n",
    "3. **Tenure**: Number of years with the company \n",
    "4. **Num_Of_Products**: Number of products owned \n",
    "5. **Is_Active_Member**: 1 if active member, 0 if inactive member \n",
    "6. **Staying**: Fraction of employees that stayed with the company for a given set of predicting variables.\n",
    "\n",
    "## Setup\n",
    "\n",
    "You can import the data and set up the problem with the following R code:"
   ]
  },
  {
   "cell_type": "code",
   "execution_count": 1,
   "metadata": {},
   "outputs": [],
   "source": [
    "import pandas as pd\n",
    "import numpy as np\n",
    "import pylab\n",
    "import statsmodels.api as sm\n",
    "import matplotlib.pyplot as plt\n",
    "from statsmodels.formula.api import glm\n",
    "from scipy.stats import chi2, norm\n",
    "from statsmodels import graphics"
   ]
  },
  {
   "cell_type": "code",
   "execution_count": 2,
   "metadata": {},
   "outputs": [
    {
     "data": {
      "text/html": [
       "<div>\n",
       "<style scoped>\n",
       "    .dataframe tbody tr th:only-of-type {\n",
       "        vertical-align: middle;\n",
       "    }\n",
       "\n",
       "    .dataframe tbody tr th {\n",
       "        vertical-align: top;\n",
       "    }\n",
       "\n",
       "    .dataframe thead th {\n",
       "        text-align: right;\n",
       "    }\n",
       "</style>\n",
       "<table border=\"1\" class=\"dataframe\">\n",
       "  <thead>\n",
       "    <tr style=\"text-align: right;\">\n",
       "      <th></th>\n",
       "      <th>Age_Group</th>\n",
       "      <th>Gender</th>\n",
       "      <th>Tenure</th>\n",
       "      <th>Num_Of_Products</th>\n",
       "      <th>Is_Active_Member</th>\n",
       "      <th>Stay</th>\n",
       "      <th>Employees</th>\n",
       "      <th>Staying</th>\n",
       "    </tr>\n",
       "  </thead>\n",
       "  <tbody>\n",
       "    <tr>\n",
       "      <th>0</th>\n",
       "      <td>2</td>\n",
       "      <td>1</td>\n",
       "      <td>3</td>\n",
       "      <td>1</td>\n",
       "      <td>0</td>\n",
       "      <td>5</td>\n",
       "      <td>11</td>\n",
       "      <td>0.454545</td>\n",
       "    </tr>\n",
       "    <tr>\n",
       "      <th>1</th>\n",
       "      <td>2</td>\n",
       "      <td>1</td>\n",
       "      <td>4</td>\n",
       "      <td>1</td>\n",
       "      <td>0</td>\n",
       "      <td>5</td>\n",
       "      <td>10</td>\n",
       "      <td>0.500000</td>\n",
       "    </tr>\n",
       "    <tr>\n",
       "      <th>2</th>\n",
       "      <td>2</td>\n",
       "      <td>1</td>\n",
       "      <td>4</td>\n",
       "      <td>1</td>\n",
       "      <td>1</td>\n",
       "      <td>2</td>\n",
       "      <td>13</td>\n",
       "      <td>0.153846</td>\n",
       "    </tr>\n",
       "    <tr>\n",
       "      <th>3</th>\n",
       "      <td>2</td>\n",
       "      <td>0</td>\n",
       "      <td>7</td>\n",
       "      <td>1</td>\n",
       "      <td>0</td>\n",
       "      <td>3</td>\n",
       "      <td>10</td>\n",
       "      <td>0.300000</td>\n",
       "    </tr>\n",
       "    <tr>\n",
       "      <th>4</th>\n",
       "      <td>2</td>\n",
       "      <td>1</td>\n",
       "      <td>7</td>\n",
       "      <td>1</td>\n",
       "      <td>0</td>\n",
       "      <td>2</td>\n",
       "      <td>14</td>\n",
       "      <td>0.142857</td>\n",
       "    </tr>\n",
       "  </tbody>\n",
       "</table>\n",
       "</div>"
      ],
      "text/plain": [
       "  Age_Group Gender  Tenure Num_Of_Products Is_Active_Member  Stay  Employees  \\\n",
       "0         2      1       3               1                0     5         11   \n",
       "1         2      1       4               1                0     5         10   \n",
       "2         2      1       4               1                1     2         13   \n",
       "3         2      0       7               1                0     3         10   \n",
       "4         2      1       7               1                0     2         14   \n",
       "\n",
       "    Staying  \n",
       "0  0.454545  \n",
       "1  0.500000  \n",
       "2  0.153846  \n",
       "3  0.300000  \n",
       "4  0.142857  "
      ]
     },
     "execution_count": 2,
     "metadata": {},
     "output_type": "execute_result"
    }
   ],
   "source": [
    "# Import the data\n",
    "rawdata = pd.read_csv(\"employee_data.csv\", header=0, encoding=\"utf-8\")\n",
    "\n",
    "# Create variable Staying\n",
    "rawdata[\"Staying\"] = rawdata[\"Stay\"] / rawdata[\"Employees\"]\n",
    "\n",
    "# Set variables as categoricals\n",
    "rawdata[\"Num_Of_Products\"] = rawdata[\"Num_Of_Products\"].astype(\"category\")\n",
    "rawdata[\"Age_Group\"] = rawdata[\"Age_Group\"].astype(\"category\")\n",
    "rawdata[\"Gender\"] = rawdata[\"Gender\"].astype(\"category\")\n",
    "rawdata[\"Is_Active_Member\"] = rawdata[\"Is_Active_Member\"].astype(\"category\")\n",
    "\n",
    "# Print head of data\n",
    "rawdata.head()"
   ]
  },
  {
   "attachments": {},
   "cell_type": "markdown",
   "metadata": {},
   "source": [
    "# Fitting a Model\n",
    "\n",
    "Fit a logistic regression model using *Staying* as the response variable with *Num Of Products* as the predictor and logit as the link function."
   ]
  },
  {
   "cell_type": "code",
   "execution_count": 3,
   "metadata": {},
   "outputs": [
    {
     "name": "stdout",
     "output_type": "stream",
     "text": [
      "                 Generalized Linear Model Regression Results                  \n",
      "==============================================================================\n",
      "Dep. Variable:                Staying   No. Observations:                  158\n",
      "Model:                            GLM   Df Residuals:                      156\n",
      "Model Family:                Binomial   Df Model:                            1\n",
      "Link Function:                  Logit   Scale:                          1.0000\n",
      "Method:                          IRLS   Log-Likelihood:                -1193.2\n",
      "Date:                Sun, 08 Jan 2023   Deviance:                       632.04\n",
      "Time:                        21:46:06   Pearson chi2:                     562.\n",
      "No. Iterations:                     4   Pseudo R-squ. (CS):             0.8902\n",
      "Covariance Type:            nonrobust                                         \n",
      "========================================================================================\n",
      "                           coef    std err          z      P>|z|      [0.025      0.975]\n",
      "----------------------------------------------------------------------------------------\n",
      "Intercept                0.3789      0.047      7.988      0.000       0.286       0.472\n",
      "Num_Of_Products[T.2]    -1.7668      0.103    -17.132      0.000      -1.969      -1.565\n",
      "========================================================================================\n"
     ]
    }
   ],
   "source": [
    "model1 = glm(\n",
    "    \"Staying ~ Num_Of_Products\",\n",
    "    data=rawdata,\n",
    "    family=sm.families.Binomial(),\n",
    "    var_weights=np.asarray(rawdata[\"Employees\"]),\n",
    ").fit()\n",
    "print(model1.summary())"
   ]
  },
  {
   "attachments": {},
   "cell_type": "markdown",
   "metadata": {},
   "source": [
    "The Odds of Staying can be defined as $\\frac{p_{staying}}{1-p_{staying}}$=$e^{\\beta_0+\\beta_1*X_{Num\\_Of\\_Products2}}$. After plugging in the numbers the odds of staying is $e^{0.3789-1.7668*Num\\_Of\\_Products2}$. When the employee owns 2 products then the log-odds decrease by 1.7668 compared to when the customer owns only 1 product. Similarly, when the employee owns 2 products the odds decrease by $\\exp^{1.7668}$ = 5.85 compared to when the customer owns only 1 product.\n",
    "\n",
    "# Inference\n",
    "\n",
    "(a) Using model1, find a 90% confidence interval for the coefficient for *Num_Of_Products2*."
   ]
  },
  {
   "cell_type": "code",
   "execution_count": 4,
   "metadata": {},
   "outputs": [
    {
     "data": {
      "text/html": [
       "<div>\n",
       "<style scoped>\n",
       "    .dataframe tbody tr th:only-of-type {\n",
       "        vertical-align: middle;\n",
       "    }\n",
       "\n",
       "    .dataframe tbody tr th {\n",
       "        vertical-align: top;\n",
       "    }\n",
       "\n",
       "    .dataframe thead th {\n",
       "        text-align: right;\n",
       "    }\n",
       "</style>\n",
       "<table border=\"1\" class=\"dataframe\">\n",
       "  <thead>\n",
       "    <tr style=\"text-align: right;\">\n",
       "      <th></th>\n",
       "      <th>0</th>\n",
       "      <th>1</th>\n",
       "    </tr>\n",
       "  </thead>\n",
       "  <tbody>\n",
       "    <tr>\n",
       "      <th>Intercept</th>\n",
       "      <td>0.300849</td>\n",
       "      <td>0.456865</td>\n",
       "    </tr>\n",
       "    <tr>\n",
       "      <th>Num_Of_Products[T.2]</th>\n",
       "      <td>-1.936460</td>\n",
       "      <td>-1.597195</td>\n",
       "    </tr>\n",
       "  </tbody>\n",
       "</table>\n",
       "</div>"
      ],
      "text/plain": [
       "                             0         1\n",
       "Intercept             0.300849  0.456865\n",
       "Num_Of_Products[T.2] -1.936460 -1.597195"
      ]
     },
     "execution_count": 4,
     "metadata": {},
     "output_type": "execute_result"
    }
   ],
   "source": [
    "model1.conf_int(alpha=0.1, cols=None)"
   ]
  },
  {
   "cell_type": "code",
   "execution_count": 5,
   "metadata": {},
   "outputs": [
    {
     "name": "stdout",
     "output_type": "stream",
     "text": [
      "p-value is 0.0\n"
     ]
    }
   ],
   "source": [
    "chi_square = chi2.cdf(\n",
    "    model1.null_deviance - model1.deviance, df=model1.null - model1.resid_pearson\n",
    ")\n",
    "print(f\"p-value is {1-np.mean(chi_square[~np.isnan(chi_square)])}\")"
   ]
  },
  {
   "attachments": {},
   "cell_type": "markdown",
   "metadata": {},
   "source": [
    "Since model1's p-value is very close to zero, we can reject the null hypothesis that the slope coefficient is equal to zero and conclude that the model is significant overall."
   ]
  },
  {
   "cell_type": "code",
   "execution_count": 6,
   "metadata": {},
   "outputs": [
    {
     "name": "stdout",
     "output_type": "stream",
     "text": [
      "left-sided p-value for intercept: 0.9999999999999993\n",
      "left-sided p-value for slope: 4.2695465759130517e-66\n"
     ]
    }
   ],
   "source": [
    "print(f\"left-sided p-value for intercept: {norm.cdf(model1.tvalues.iloc[0])}\")\n",
    "print(f\"left-sided p-value for slope: {norm.cdf(model1.tvalues.iloc[1])}\")"
   ]
  },
  {
   "attachments": {},
   "cell_type": "markdown",
   "metadata": {},
   "source": [
    "The p-value associated to the left-sided test for the slope is below 0.01, so we can reject the null hypothesis that $\\beta_i\\ge 0$ and conclude that the coefficient for Num_Of_Products is statistically negative at the 0.01 significance level.\n",
    "\n",
    "# Goodness of fit\n",
    "\n",
    "## Perform goodness-of-fit hypothesis tests using both Deviance and Pearson residuals."
   ]
  },
  {
   "cell_type": "code",
   "execution_count": 7,
   "metadata": {},
   "outputs": [
    {
     "name": "stdout",
     "output_type": "stream",
     "text": [
      "Deviance residuals test p-value is 0.0\n"
     ]
    }
   ],
   "source": [
    "gof_deviance_chi_square = chi2.cdf(model1.deviance, df=model1.df_resid)\n",
    "print(f\"Deviance residuals test p-value is {1-gof_deviance_chi_square}\")"
   ]
  },
  {
   "cell_type": "code",
   "execution_count": 8,
   "metadata": {},
   "outputs": [
    {
     "name": "stdout",
     "output_type": "stream",
     "text": [
      "Pearson residuals test p-value is 0.0\n"
     ]
    }
   ],
   "source": [
    "gof_pearson_chi_square = chi2.cdf(\n",
    "    np.sum(np.square(model1.resid_pearson)), df=model1.df_resid\n",
    ")\n",
    "print(f\"Pearson residuals test p-value is {np.mean(1-gof_pearson_chi_square)}\")"
   ]
  },
  {
   "attachments": {},
   "cell_type": "markdown",
   "metadata": {},
   "source": [
    "The p-value is close to 0 using the Deviance and the Pearson test indicating that this model is not a good fit. In the statistical inference above the p-value is also close to 0 indicating that it is statistically significant thus has explanatory power. Since the p-value is close to 0 we can reject the Null hypothesis that the model is a good fit. It is possible for a model to have good explanatory power but be a bad fit.\n",
    "\n",
    "## QQ plot and histogram of the deviance residuals."
   ]
  },
  {
   "cell_type": "code",
   "execution_count": 9,
   "metadata": {},
   "outputs": [
    {
     "data": {
      "image/png": "[encoded data removed]",
      "text/plain": [
       "<Figure size 432x288 with 1 Axes>"
      ]
     },
     "metadata": {
      "needs_background": "light"
     },
     "output_type": "display_data"
    },
    {
     "data": {
      "image/png": "[encoded data removed]",
      "text/plain": [
       "<Figure size 432x288 with 1 Axes>"
      ]
     },
     "metadata": {
      "needs_background": "light"
     },
     "output_type": "display_data"
    }
   ],
   "source": [
    "plt.hist(model1.resid_deviance)\n",
    "plt.xlabel(\"Residuals\")\n",
    "plt.ylabel(\"Frequency\")\n",
    "\n",
    "graphics.gofplots.qqplot(model1.resid_deviance, line=\"r\")\n",
    "pylab.show()"
   ]
  },
  {
   "attachments": {},
   "cell_type": "markdown",
   "metadata": {},
   "source": [
    "The QQ Plot and histogram show that the residuals closely follow a normal distribution with some deviation at the tails. The plots look reasonable enough that they do not depart from a normal distribution.\n",
    "\n",
    "## Calculate the estimated dispersion parameter for this model."
   ]
  },
  {
   "cell_type": "code",
   "execution_count": 10,
   "metadata": {},
   "outputs": [
    {
     "name": "stdout",
     "output_type": "stream",
     "text": [
      "The dispersion parameter is 4.051538680267789\n"
     ]
    }
   ],
   "source": [
    "print(f\"The dispersion parameter is {model1.deviance/model1.df_resid}\")"
   ]
  },
  {
   "attachments": {},
   "cell_type": "markdown",
   "metadata": {},
   "source": [
    "The estimated dispersion parameter is larger than 2, so overdispersion is a concern for this model.\n",
    "\n",
    "# Fitting the full model\n",
    "\n",
    "Fit a logistic regression model using *Staying* as the response variable with *Age_Group*, *Gender*, *Tenure*, *Num_Of_Products*, and *Is_Active_Member* as the predictors and logit as the link function."
   ]
  },
  {
   "cell_type": "code",
   "execution_count": 11,
   "metadata": {},
   "outputs": [
    {
     "name": "stdout",
     "output_type": "stream",
     "text": [
      "                 Generalized Linear Model Regression Results                  \n",
      "==============================================================================\n",
      "Dep. Variable:                Staying   No. Observations:                  158\n",
      "Model:                            GLM   Df Residuals:                      150\n",
      "Model Family:                Binomial   Df Model:                            7\n",
      "Link Function:                  Logit   Scale:                          1.0000\n",
      "Method:                          IRLS   Log-Likelihood:                -958.34\n",
      "Date:                Sun, 08 Jan 2023   Deviance:                       162.35\n",
      "Time:                        21:46:08   Pearson chi2:                     154.\n",
      "No. Iterations:                     5   Pseudo R-squ. (CS):             0.9944\n",
      "Covariance Type:            nonrobust                                         \n",
      "=========================================================================================\n",
      "                            coef    std err          z      P>|z|      [0.025      0.975]\n",
      "-----------------------------------------------------------------------------------------\n",
      "Intercept                -0.1096      0.283     -0.388      0.698      -0.663       0.444\n",
      "Age_Group[T.3]            0.3845      0.268      1.435      0.151      -0.141       0.910\n",
      "Age_Group[T.4]            1.7341      0.270      6.414      0.000       1.204       2.264\n",
      "Age_Group[T.5]            2.9556      0.338      8.751      0.000       2.294       3.618\n",
      "Gender[T.1]              -0.5721      0.094     -6.100      0.000      -0.756      -0.388\n",
      "Num_Of_Products[T.2]     -1.4109      0.112    -12.598      0.000      -1.630      -1.191\n",
      "Is_Active_Member[T.1]    -0.8503      0.096     -8.873      0.000      -1.038      -0.662\n",
      "Tenure                   -0.0033      0.017     -0.200      0.841      -0.036       0.029\n",
      "=========================================================================================\n"
     ]
    }
   ],
   "source": [
    "model2 = glm(\n",
    "    \"Staying ~ Age_Group + Gender + Tenure + Num_Of_Products + Is_Active_Member\",\n",
    "    data=rawdata,\n",
    "    family=sm.families.Binomial(),\n",
    "    var_weights=np.asarray(rawdata[\"Employees\"]),\n",
    ").fit()\n",
    "print(model2.summary())"
   ]
  },
  {
   "attachments": {},
   "cell_type": "markdown",
   "metadata": {},
   "source": [
    "The probability of staying = $\\frac{e^{-1.09572+0.384480Age.Group3+1.734115Age.Group4+2.955578Age.Group5-0.572069Gender1-0.003319Tenure-1.410946Num.Of.Products2-0.850280Is.Active.Member1}}{1+e^{-1.09572+0.384480Age.Group3+1.734115Age.Group4+2.955578Age.Group5-0.572069Gender1-0.003319Tenure-1.410946Num.Of.Products2-0.850280Is.Active.Member1}}$"
   ]
  },
  {
   "attachments": {},
   "cell_type": "markdown",
   "metadata": {},
   "source": [
    "*Tenure*:\n",
    "- A one unit increase in *Tenure* decreases the odds of an employee staying with the company by 0.3% holding all other predictors constant. $1−e^{−0.003}=0.003$\n",
    "- A one unit increase in *Tenure* changes the odds of an employee staying with the company by a factor of 0.997 holding all other predictors constant. $e^{−0.003}=0.997$\n",
    "\n",
    "*Is_Active_Member1*:\n",
    "- The odds of staying for an employee who is an active member(*Is_Active_Member1*) is 57.26% lower than that of an employee who is not an active member (*Is_Active_Member0*) holding all other predictors constant. $1−e^{−0.8502}=0.5726$\n",
    "- The odds of staying for an employee who is an active member(*Is_Active_Member1*) change by a factor of 0.4273 relative to an employee ho is not an active member (*Is_Active_Member1*) holding all other predictors constant. $e^{−0.8502}=0.4273$\n",
    "\n",
    "The Is.Active.Member1 variable is statistically significant with the other variables in model2 at the 0.01 significance level since the p-value is approximately 0.\n",
    "\n",
    "## Has the goodness of fit been affected?\n",
    "\n",
    "### Perform goodness-of-fit hypothesis tests using both Deviance and Pearson residuals."
   ]
  },
  {
   "cell_type": "code",
   "execution_count": 12,
   "metadata": {},
   "outputs": [
    {
     "name": "stdout",
     "output_type": "stream",
     "text": [
      "Deviance residuals test p-value is 0.2319117818000821\n",
      "Pearson residuals test p-value is 0.3912174065054784\n"
     ]
    }
   ],
   "source": [
    "gof2_deviance_chi_square = chi2.cdf(model2.deviance, df=model2.df_resid)\n",
    "print(f\"Deviance residuals test p-value is {1-gof2_deviance_chi_square}\")\n",
    "gof2_pearson_chi_square = chi2.cdf(\n",
    "    np.sum(np.square(model2.resid_pearson)), df=model2.df_resid\n",
    ")\n",
    "print(f\"Pearson residuals test p-value is {np.mean(1-gof2_pearson_chi_square)}\")"
   ]
  },
  {
   "attachments": {},
   "cell_type": "markdown",
   "metadata": {},
   "source": [
    "Both the Deviance residuals and the Pearson residuals are large enough to fail to reject the Null hypothesis that the model is a good fit. With the added variables we may consider model2 a good fit for the data."
   ]
  },
  {
   "attachments": {},
   "cell_type": "markdown",
   "metadata": {},
   "source": [
    "### Evaluate the linearity assumption of **model2** by plotting the log-odds of **Staying** vs. **Tenure**."
   ]
  },
  {
   "cell_type": "code",
   "execution_count": 13,
   "metadata": {},
   "outputs": [
    {
     "name": "stderr",
     "output_type": "stream",
     "text": [
      "c:\\Python39\\lib\\site-packages\\pandas\\core\\arraylike.py:364: RuntimeWarning: divide by zero encountered in log\n",
      "  result = getattr(ufunc, method)(*inputs, **kwargs)\n"
     ]
    },
    {
     "data": {
      "text/plain": [
       "<matplotlib.collections.PathCollection at 0x2745e8cdee0>"
      ]
     },
     "execution_count": 13,
     "metadata": {},
     "output_type": "execute_result"
    },
    {
     "data": {
      "image/png": "[encoded data removed]",
      "text/plain": [
       "<Figure size 432x288 with 1 Axes>"
      ]
     },
     "metadata": {
      "needs_background": "light"
     },
     "output_type": "display_data"
    }
   ],
   "source": [
    "plt.scatter(rawdata[\"Tenure\"], np.log(rawdata[\"Staying\"] / (1 - rawdata[\"Staying\"])))"
   ]
  },
  {
   "attachments": {},
   "cell_type": "markdown",
   "metadata": {},
   "source": [
    "The log odds of staying appear to be evenly spread across 0.The linearity assumption appears to hold.\n",
    "\n",
    "### Evaluate whether the deviance residuals are normally distributed by producing a QQ plot and histogram of the deviance residuals."
   ]
  },
  {
   "cell_type": "code",
   "execution_count": 14,
   "metadata": {},
   "outputs": [
    {
     "data": {
      "image/png": "[encoded data removed]",
      "text/plain": [
       "<Figure size 432x288 with 1 Axes>"
      ]
     },
     "metadata": {
      "needs_background": "light"
     },
     "output_type": "display_data"
    },
    {
     "data": {
      "image/png": "[encoded data removed]",
      "text/plain": [
       "<Figure size 432x288 with 1 Axes>"
      ]
     },
     "metadata": {
      "needs_background": "light"
     },
     "output_type": "display_data"
    }
   ],
   "source": [
    "plt.hist(model2.resid_deviance)\n",
    "plt.xlabel(\"Residuals\")\n",
    "plt.ylabel(\"Frequency\")\n",
    "\n",
    "graphics.gofplots.qqplot(model2.resid_deviance, line=\"r\")\n",
    "pylab.show()"
   ]
  },
  {
   "attachments": {},
   "cell_type": "markdown",
   "metadata": {},
   "source": [
    "There are some small departures from the normal line in the QQ Plot but not enough to determine that the residuals do not have a normal distribution\n",
    "\n",
    "### Calculate the estimated dispersion parameter for this model."
   ]
  },
  {
   "cell_type": "code",
   "execution_count": 15,
   "metadata": {},
   "outputs": [
    {
     "name": "stdout",
     "output_type": "stream",
     "text": [
      "The dispersion parameter is 1.0823299400158772\n"
     ]
    }
   ],
   "source": [
    "print(f\"The dispersion parameter is {model2.deviance/model2.df_resid}\")"
   ]
  },
  {
   "attachments": {},
   "cell_type": "markdown",
   "metadata": {},
   "source": [
    "The estimated dispersion parameter of 1.082 is less than 2 so model2 is not over dispersed.\n",
    "\n",
    "Overall, I would say model2 is a good-fitting model as the assumptions appear to hold up. The linearity assumption of the Std. Residuals vs Tenure shows the Log Odds of staying evenly distributed around 0 for all Tenure years. Plotting the Logit of Staying vs each trial does not show any obvious patterns so the Independence assumption appears to hold.The QQ plot and histogram plot shows that the residuals are normally distributed.\n",
    "\n",
    "A check for multicollinearity shows each variable close to 1 so there does not appear to be an issue with multicollinearity in model2.\n",
    "\n",
    "The link function used for model2 is the logit function. Based on the reasons listed above model2 is considered a good-fitting model."
   ]
  },
  {
   "attachments": {},
   "cell_type": "markdown",
   "metadata": {},
   "source": [
    "# Prediction\n",
    "\n",
    "Suppose there is an employee with the following characteristics:\n",
    "\n",
    "1. **Age_Group**: 2\n",
    "\n",
    "2. **Gender**: 0\n",
    "\n",
    "3. **Tenure**: 2\n",
    "\n",
    "4. **Num_Of_Products**: 2\n",
    "\n",
    "5. **Is_Active_Member**: 1\n",
    "\n",
    "## Predict their probability of staying using model1."
   ]
  },
  {
   "cell_type": "code",
   "execution_count": 16,
   "metadata": {},
   "outputs": [
    {
     "data": {
      "text/html": [
       "<div>\n",
       "<style scoped>\n",
       "    .dataframe tbody tr th:only-of-type {\n",
       "        vertical-align: middle;\n",
       "    }\n",
       "\n",
       "    .dataframe tbody tr th {\n",
       "        vertical-align: top;\n",
       "    }\n",
       "\n",
       "    .dataframe thead th {\n",
       "        text-align: right;\n",
       "    }\n",
       "</style>\n",
       "<table border=\"1\" class=\"dataframe\">\n",
       "  <thead>\n",
       "    <tr style=\"text-align: right;\">\n",
       "      <th></th>\n",
       "      <th>mean</th>\n",
       "      <th>mean_se</th>\n",
       "      <th>mean_ci_lower</th>\n",
       "      <th>mean_ci_upper</th>\n",
       "    </tr>\n",
       "  </thead>\n",
       "  <tbody>\n",
       "    <tr>\n",
       "      <th>0</th>\n",
       "      <td>0.199732</td>\n",
       "      <td>0.014638</td>\n",
       "      <td>0.176739</td>\n",
       "      <td>0.224899</td>\n",
       "    </tr>\n",
       "  </tbody>\n",
       "</table>\n",
       "</div>"
      ],
      "text/plain": [
       "       mean   mean_se  mean_ci_lower  mean_ci_upper\n",
       "0  0.199732  0.014638       0.176739       0.224899"
      ]
     },
     "execution_count": 16,
     "metadata": {},
     "output_type": "execute_result"
    }
   ],
   "source": [
    "test_data = pd.DataFrame(\n",
    "    data={\n",
    "        \"Age_Group\": 2,\n",
    "        \"Gender\": 0,\n",
    "        \"Tenure\": 2,\n",
    "        \"Num_Of_Products\": 2,\n",
    "        \"Is_Active_Member\": 1,\n",
    "    },\n",
    "    index=[0],\n",
    ")\n",
    "\n",
    "model1_prediction = model1.get_prediction(exog=test_data).summary_frame(alpha=0.10)\n",
    "model1_prediction"
   ]
  },
  {
   "attachments": {},
   "cell_type": "markdown",
   "metadata": {},
   "source": [
    "Using model1, given the above characteristics of an employee the probability of staying is predicted to be equal to 0.1997319 (~20%).\n",
    "\n",
    "## Predict their probability of staying using model2."
   ]
  },
  {
   "cell_type": "code",
   "execution_count": 17,
   "metadata": {},
   "outputs": [
    {
     "data": {
      "text/html": [
       "<div>\n",
       "<style scoped>\n",
       "    .dataframe tbody tr th:only-of-type {\n",
       "        vertical-align: middle;\n",
       "    }\n",
       "\n",
       "    .dataframe tbody tr th {\n",
       "        vertical-align: top;\n",
       "    }\n",
       "\n",
       "    .dataframe thead th {\n",
       "        text-align: right;\n",
       "    }\n",
       "</style>\n",
       "<table border=\"1\" class=\"dataframe\">\n",
       "  <thead>\n",
       "    <tr style=\"text-align: right;\">\n",
       "      <th></th>\n",
       "      <th>mean</th>\n",
       "      <th>mean_se</th>\n",
       "      <th>mean_ci_lower</th>\n",
       "      <th>mean_ci_upper</th>\n",
       "    </tr>\n",
       "  </thead>\n",
       "  <tbody>\n",
       "    <tr>\n",
       "      <th>0</th>\n",
       "      <td>0.08491</td>\n",
       "      <td>0.023117</td>\n",
       "      <td>0.05382</td>\n",
       "      <td>0.131464</td>\n",
       "    </tr>\n",
       "  </tbody>\n",
       "</table>\n",
       "</div>"
      ],
      "text/plain": [
       "      mean   mean_se  mean_ci_lower  mean_ci_upper\n",
       "0  0.08491  0.023117        0.05382       0.131464"
      ]
     },
     "execution_count": 17,
     "metadata": {},
     "output_type": "execute_result"
    }
   ],
   "source": [
    "model2_prediction = model2.get_prediction(exog=test_data).summary_frame(alpha=0.10)\n",
    "model2_prediction"
   ]
  },
  {
   "attachments": {},
   "cell_type": "markdown",
   "metadata": {},
   "source": [
    "Using model2 the probability of staying is approximately 8.5%.\n",
    "\n",
    "## Model1 and model2 comparison.\n",
    "\n",
    "When Age_Group, Gender, Tenure, and Is_Active_Member are taken into consideration, the employee’s predicted probability of staying at the company decreases by about 0.11. Based on the goodness of fit tests, model2 seems to be much more reliable than model1, and it might be possible that model1 is overestimating the probability that this employee will stay with the company. However, we might need to split our data set into training and testing sets and calculate prediction accuracy measurements in order to further evaluate the prediction accuracy of the models."
   ]
  }
 ],
 "metadata": {
  "jupytext": {
   "cell_metadata_filter": "name,tags,-all",
   "main_language": "R",
   "notebook_metadata_filter": "-all"
  },
  "kernelspec": {
   "display_name": "Python 3",
   "language": "python",
   "name": "python3"
  },
  "language_info": {
   "codemirror_mode": {
    "name": "ipython",
    "version": 3
   },
   "file_extension": ".py",
   "mimetype": "text/x-python",
   "name": "python",
   "nbconvert_exporter": "python",
   "pygments_lexer": "ipython3",
   "version": "3.9.0"
  },
  "vscode": {
   "interpreter": {
    "hash": "81794d4967e6c3204c66dcd87b604927b115b27c00565d3d43f05ba2f3a2cb0d"
   }
  }
 },
 "nbformat": 4,
 "nbformat_minor": 4
}
